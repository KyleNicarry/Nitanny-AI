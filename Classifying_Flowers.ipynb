{
  "cells": [
    {
      "cell_type": "markdown",
      "metadata": {
        "id": "kiGi5iyVngnl"
      },
      "source": [
        "If you ever get stuck, check out this article for hints or tricks: https://www.pycodemates.com/2022/05/iris-dataset-classification-with-python.html"
      ]
    },
    {
      "cell_type": "code",
      "execution_count": 1,
      "metadata": {
        "id": "pUHiDpICnexZ"
      },
      "outputs": [],
      "source": [
        "import pandas as pd\n",
        "import numpy as np\n",
        "import matplotlib.pyplot as plt\n",
        "from sklearn.datasets import load_iris\n",
        "from sklearn.model_selection import train_test_split\n",
        "from sklearn.svm import SVC"
      ]
    },
    {
      "cell_type": "code",
      "execution_count": 2,
      "metadata": {
        "id": "12nR_Q2DobVg"
      },
      "outputs": [],
      "source": [
        "iris = load_iris() # Load iris dataset\n"
      ]
    },
    {
      "cell_type": "code",
      "execution_count": 4,
      "metadata": {
        "id": "zjbeWMfzou8U"
      },
      "outputs": [],
      "source": [
        "# Assign data and target\n",
        "X = iris.data\n",
        "Y = iris.target\n",
        "x_train, x_test, y_train, y_test = train_test_split(X, Y)"
      ]
    },
    {
      "cell_type": "code",
      "execution_count": 5,
      "metadata": {
        "id": "GgKS9aFzoRFZ"
      },
      "outputs": [],
      "source": [
        "model = SVC() # Select model"
      ]
    },
    {
      "cell_type": "code",
      "execution_count": 6,
      "metadata": {
        "id": "Ethnal1fo8VZ"
      },
      "outputs": [],
      "source": [
        "model.fit(x_train, y_train) # Train model\n",
        "x_test, y_test = x_train, y_train"
      ]
    },
    {
      "cell_type": "code",
      "execution_count": 7,
      "metadata": {
        "id": "aIOMrHFupBH6",
        "colab": {
          "base_uri": "https://localhost:8080/"
        },
        "outputId": "d6feaf85-6010-470a-cf86-c97fb5c2c913"
      },
      "outputs": [
        {
          "output_type": "execute_result",
          "data": {
            "text/plain": [
              "0.9642857142857143"
            ]
          },
          "metadata": {},
          "execution_count": 7
        }
      ],
      "source": [
        "model.score(x_test, y_test) # Accuracy score"
      ]
    }
  ],
  "metadata": {
    "colab": {
      "provenance": [],
      "toc_visible": true
    },
    "kernelspec": {
      "display_name": "Python 3",
      "name": "python3"
    },
    "language_info": {
      "name": "python"
    }
  },
  "nbformat": 4,
  "nbformat_minor": 0
}