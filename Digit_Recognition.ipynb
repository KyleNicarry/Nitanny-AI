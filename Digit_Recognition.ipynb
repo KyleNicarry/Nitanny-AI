{
  "nbformat": 4,
  "nbformat_minor": 0,
  "metadata": {
    "colab": {
      "provenance": []
    },
    "kernelspec": {
      "name": "python3",
      "display_name": "Python 3"
    },
    "language_info": {
      "name": "python"
    }
  },
  "cells": [
    {
      "cell_type": "code",
      "execution_count": 14,
      "metadata": {
        "id": "UIPLdN0BxfMG"
      },
      "outputs": [],
      "source": [
        "import pandas as pd\n",
        "import numpy as np\n",
        "import tensorflow as tf\n",
        "from tensorflow.keras import layers\n",
        "import matplotlib.pyplot as plt"
      ]
    },
    {
      "cell_type": "code",
      "source": [
        "(x_train, y_train), (x_test, y_test) = tf.keras.datasets.mnist.load_data()\n",
        "x_train = tf.keras.utils.normalize(x_train, axis=1)\n",
        "x_test = tf.keras.utils.normalize(x_test, axis=1)"
      ],
      "metadata": {
        "id": "EMUZ4VwFxorj"
      },
      "execution_count": null,
      "outputs": []
    },
    {
      "cell_type": "code",
      "source": [
        "plt.imshow(x_train[0], cmap = 'gray')"
      ],
      "metadata": {
        "id": "Y0VkFUIWxrzF"
      },
      "execution_count": null,
      "outputs": []
    },
    {
      "cell_type": "code",
      "source": [
        "#define model\n",
        "model = tf.keras.Sequential()"
      ],
      "metadata": {
        "id": "N4Qy28_Gxtv7"
      },
      "execution_count": null,
      "outputs": []
    },
    {
      "cell_type": "code",
      "source": [
        "#build model\n",
        "model.add(tf.keras.layers.Flatten(input_shape=(28,28)))\n",
        "model.add(tf.keras.layers.Dense(128, activation='relu'))\n",
        "model.add(tf.keras.layers.Dense(10, activation='softmax'))\n",
        "model.compile(optimizer='adam', loss='sparse_categorical_crossentropy', metrics=['accuracy'])\n",
        "model.fit(x_train, y_train, epochs=5)\n",
        "model.evaluate(x_test, y_test)"
      ],
      "metadata": {
        "id": "lTpLr4Tox2kx"
      },
      "execution_count": null,
      "outputs": []
    },
    {
      "cell_type": "code",
      "source": [
        "#test model\n",
        "number_of_images = 5\n",
        "\n",
        "probabilities = model.predict(x_train[:number_of_images])\n",
        "predictions = np.argmax(probabilities, axis=1)\n",
        "for index in range(len(probabilities)):\n",
        "  plt.imshow(x_train[index], cmap='gray')\n",
        "  plt.show()\n",
        "  print(\"Prediction: \", predictions[index])"
      ],
      "metadata": {
        "id": "UfB37GxmxukQ"
      },
      "execution_count": null,
      "outputs": []
    },
    {
      "cell_type": "code",
      "source": [
        "#check accuracy and look at incorrect predictions\n",
        "loss, accuracy = model.evaluate(x_test, y_test)\n",
        "print(accuracy)\n",
        "\n",
        "predictions = model.predict(x_test)\n",
        "predicted_labels = np.argmax(predictions, axis = 1)\n",
        "incorrect_indices = np.where(predicted_labels != y_test)[0]\n",
        "for i in range(min(10, len(incorrect_indices))):\n",
        "    idx = incorrect_indices[i]\n",
        "    plt.imshow(x_test[idx], cmap='gray')\n",
        "    plt.title(f\"Prediction: {predicted_labels[idx]}, Actual: {y_test[idx]}\")\n",
        "    plt.show()"
      ],
      "metadata": {
        "id": "H3u4jU49x4bY"
      },
      "execution_count": null,
      "outputs": []
    }
  ]
}